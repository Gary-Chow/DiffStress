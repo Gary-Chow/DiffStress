{
 "cells": [
  {
   "cell_type": "markdown",
   "metadata": {},
   "source": [
    "#### This notebook is to *numerically* calculate multitude of random distribution (m.r.d.) expected for $(\\phi,\\psi)$ diffraction orientations"
   ]
  },
  {
   "cell_type": "markdown",
   "metadata": {},
   "source": [
    "- Dependents"
   ]
  },
  {
   "cell_type": "code",
   "execution_count": null,
   "metadata": {
    "collapsed": false
   },
   "outputs": [],
   "source": [
    "pwd"
   ]
  },
  {
   "cell_type": "code",
   "execution_count": null,
   "metadata": {
    "collapsed": false
   },
   "outputs": [],
   "source": [
    "%pylab inline\n",
    "\n",
    "import TX, os, shutil\n",
    "from TX import cmb, euler\n",
    "euler = euler.euler\n",
    "path_home=os.getcwd()\n",
    "# cmb.random\n",
    "\n",
    "path_load='/Users/yj/repo/rs_pack/src/src_fortran/'\n",
    "os.chdir(path_load)\n",
    "import cs\n",
    "reload(cs)\n",
    "os.chdir(path_home)"
   ]
  },
  {
   "cell_type": "code",
   "execution_count": null,
   "metadata": {
    "collapsed": false
   },
   "outputs": [],
   "source": [
    "### Define random orientation\n",
    "grains=cmb.random(ngrain=10000,phi1=360, phi2=90, phi=360)\n",
    "print grains.shape"
   ]
  },
  {
   "cell_type": "code",
   "execution_count": null,
   "metadata": {
    "collapsed": false
   },
   "outputs": [],
   "source": [
    "## rotation matrices for indivial discrete orientations\n",
    "a_mat = []\n",
    "ag    = []\n",
    "for i in xrange(len(grains)):\n",
    "    gr=grains[i]\n",
    "    ph,th,tm = gr[:3]\n",
    "    a=euler(ph=grains[i][0], th=grains[i][1], tm=grains[i][2],echo=False)\n",
    "    a_mat.append(a)\n",
    "    ag.append(a.T)"
   ]
  },
  {
   "cell_type": "code",
   "execution_count": null,
   "metadata": {
    "collapsed": false
   },
   "outputs": [],
   "source": [
    "hkls, n = cs.cubic_eqvect(v=[2,1,1])\n",
    "hkls    = hkls.T\n",
    "hkls    = hkls[:n,:]"
   ]
  },
  {
   "cell_type": "code",
   "execution_count": null,
   "metadata": {
    "collapsed": false
   },
   "outputs": [],
   "source": [
    "print cs.vector_ang.__doc__"
   ]
  },
  {
   "cell_type": "code",
   "execution_count": null,
   "metadata": {
    "collapsed": false
   },
   "outputs": [],
   "source": [
    "def vecply(a,b):\n",
    "    c = np.zeros((3,))\n",
    "    for i in xrange(3):\n",
    "        for j in xrange(3):\n",
    "            c[i] = c[i] + b[i][j] * a[j]\n",
    "    return c\n",
    "\n",
    "def vnorm(vec):\n",
    "    v=vec[::]\n",
    "    mag=0.\n",
    "    for i in xrange(len(v)):\n",
    "        mag = mag + v[i]**2\n",
    "    mag = np.sqrt(mag)\n",
    "    \n",
    "    for i in xrange(len(v)):\n",
    "        v[i] = v[i] / mag\n",
    "        \n",
    "    return v\n",
    "\n",
    "def anorm(v):\n",
    "    \"\"\"\n",
    "    Return \"magnitude\" of vector <v>\n",
    "    \"\"\"\n",
    "    norm = 0.\n",
    "    for i in xrange(len(v)):\n",
    "        norm=norm+v[i]**2\n",
    "    return np.sqrt(norm)\n",
    "\n",
    "def angv(v1,v2):\n",
    "    \"\"\"\n",
    "    Calculates angle between two vectors\n",
    "    \"\"\"\n",
    "    dotp = 0.\n",
    "    for i in xrange(len(v1)):\n",
    "        dotp = dotp + v1[i] * v2[i]\n",
    "        \n",
    "    v1n = anorm(v1)\n",
    "    v2n = anorm(v2)\n",
    "    return np.arccos(dotp / v1n/ v2n)\n",
    "\n",
    "def isclose(v1, v2, th):\n",
    "    pi = np.pi\n",
    "    tha = angv(v1, v2) * 180./pi\n",
    "    \n",
    "    if tha>90.:  tha = 180. - tha\n",
    "        \n",
    "    if tha<=th: return True\n",
    "    else: return False"
   ]
  },
  {
   "cell_type": "code",
   "execution_count": null,
   "metadata": {
    "collapsed": false
   },
   "outputs": [],
   "source": [
    "angv([0,0,1],[1,0,0])*180/np.pi"
   ]
  },
  {
   "cell_type": "code",
   "execution_count": null,
   "metadata": {
    "collapsed": false
   },
   "outputs": [],
   "source": [
    "import matplotlib.pyplot as plt\n",
    "from mpl_toolkits.mplot3d import Axes3D\n",
    "fig = plt.figure(figsize=(10,10))\n",
    "ax  = fig.add_subplot(221, projection='3d')\n",
    "ax1 = fig.add_subplot(222)\n",
    "\n",
    "## phi / psi\n",
    "phis  = [  0, 45, 90]\n",
    "betas = [-45,-15, -7,  0,  7, 15, 45]\n",
    "\n",
    "## angmisdet \n",
    "angmisdet = 23.59 ## -- depend on 'hkl' and X-ray tube\n",
    "angcone   = 10.\n",
    "\n",
    "x0_R_s      = np.zeros((3,3))\n",
    "x0_R_s[0,1] = 1.\n",
    "x0_R_s[1,0] = 1.\n",
    "x0_R_s[2,2] =-1.\n",
    "\n",
    "bv0    = np.zeros((3,))\n",
    "bv0[2] = 1.0  # [0,0,1] \n",
    "x      = np.zeros((3,))  # x axis of X-ray coordinate\n",
    "x[0]   = 1.0\n",
    "\n",
    "## R p1 in xa <- beam in xa\n",
    "## R p2 in xa <- beam in xa\n",
    "p1Rb   = cs.vector_ang(x, +angmisdet/2.)\n",
    "p2Rb   = cs.vector_ang(x, -angmisdet/2.)\n",
    "nphi = len(phis)\n",
    "nbet = len(betas)\n",
    "\n",
    "wgts = np.zeros((2,nphi,nbet))\n",
    "ngrs = np.zeros((2,nphi,nbet))\n",
    "\n",
    "det_ps=np.zeros((2,nphi,nbet,3))\n",
    "\n",
    "for iphi in xrange(nphi):\n",
    "    for ibeta in xrange(nbet):\n",
    "        ph = phis[iphi]\n",
    "        be = betas[ibeta]\n",
    "        x1_R_x0 = euler(ph=-ph,th=be,tm=0,echo=False)\n",
    "        bv1     = vecply(bv0,x1_R_x0)        \n",
    "        x1_R_s  = cs.matply(x1_R_x0, x0_R_s)\n",
    "        s_R_x1  = x1_R_s.T\n",
    "\n",
    "        bvs = vecply(bv0, s_R_x1) ## Beam vector in sample axes        \n",
    "        ps1 = vecply(bv0, p1Rb)\n",
    "        ps2 = vecply(bv0, p2Rb)        \n",
    "        ps1 = vecply(ps1, s_R_x1)\n",
    "        ps2 = vecply(ps2, s_R_x1)\n",
    "        \n",
    "        det_ps[0,iphi,ibeta,:]=ps1[::]\n",
    "        det_ps[1,iphi,ibeta,:]=ps2[::]\n",
    "\n",
    "        ax.scatter(ps1[0],ps1[1],ps1[2])\n",
    "        ax.scatter(ps2[0],ps2[1],ps2[2])\n",
    "        ax1.plot(ps1[0],ps1[1],'k.')\n",
    "        ax1.plot(ps2[0],ps2[1],'k.')\n",
    "\n",
    "        n_det1=0\n",
    "        for i in xrange(len(ag)):\n",
    "            agx = ag[i]\n",
    "            for j in xrange(len(hkls)):\n",
    "                pc     = vnorm(hkls[j])\n",
    "                hkl_sa = vecply(pc, agx) ## hkl in sample axes\n",
    "                ps     = hkl_sa[::]\n",
    "                \n",
    "                if (isclose(ps,ps1,angcone)):\n",
    "                    n_det1=n_det1+1\n",
    "                    wgts[0,iphi,ibeta] = wgts[0,iphi,ibeta] + grains[i][3]\n",
    "                    ngrs[0,iphi,ibeta] = ngrs[0,iphi,ibeta] + 1\n",
    "                if (isclose(ps,ps2,angcone)):\n",
    "                    wgts[1,iphi,ibeta] = wgts[1,iphi,ibeta] + grains[i][3]\n",
    "                    ngrs[1,iphi,ibeta] = ngrs[1,iphi,ibeta] + 1\n",
    "ax.set_zlim(0,-1.)"
   ]
  },
  {
   "cell_type": "code",
   "execution_count": null,
   "metadata": {
    "collapsed": true
   },
   "outputs": [],
   "source": [
    "def mrd(ngr=100,angcone=10.,phi1=360,phi2=90,phi=360):\n",
    "    grains=cmb.random(ngrain=ngr,phi1=phi1, phi2=phi2, phi=phi)\n",
    "\n",
    "    ag=[]\n",
    "    for i in xrange(ngr):\n",
    "        a=euler(ph=grains[i][0], th=grains[i][1], tm=grains[i][2],echo=False)\n",
    "        ag.append(a.T)\n",
    "    ag=np.array(ag)    \n",
    "\n",
    "    wgts = np.zeros((2,nphi,nbet))\n",
    "    ngrs = np.zeros((2,nphi,nbet))\n",
    "\n",
    "    for iphi in xrange(nphi):\n",
    "        for ibeta in xrange(nbet):        \n",
    "            ps1=det_ps[0,iphi,ibeta,:]\n",
    "            ps2=det_ps[1,iphi,ibeta,:]\n",
    "            \n",
    "            for i in xrange(len(ag)):\n",
    "                agx = ag[i]\n",
    "                for j in xrange(len(hkls)):\n",
    "                    pc     = vnorm(hkls[j])\n",
    "                    hkl_sa = vecply(pc, agx) ## hkl in sample axes\n",
    "                    ps     = hkl_sa[::]\n",
    "                \n",
    "                    if (isclose(ps,ps1,angcone)):\n",
    "                        wgts[0,iphi,ibeta] = wgts[0,iphi,ibeta] + grains[i][3]\n",
    "                        ngrs[0,iphi,ibeta] = ngrs[0,iphi,ibeta] + 1\n",
    "                    if (isclose(ps,ps2,angcone)):\n",
    "                        wgts[1,iphi,ibeta] = wgts[1,iphi,ibeta] + grains[i][3]\n",
    "                        ngrs[1,iphi,ibeta] = ngrs[1,iphi,ibeta] + 1\n",
    "    return wgts.mean(), wgts.std()"
   ]
  },
  {
   "cell_type": "code",
   "execution_count": null,
   "metadata": {
    "collapsed": false
   },
   "outputs": [],
   "source": [
    "angcone=10.\n",
    "ngrs=[100,200,400,800]\n",
    "a=[]\n",
    "s=[]\n",
    "for i in xrange(len(ngrs)):\n",
    "    avg, std=mrd(ngr=ngrs[i],angcone=angcone,phi1=360,phi2=360,phi=360)\n",
    "    a.append(avg)\n",
    "    s.append(std)\n",
    "x=np.arange(len(ngrs))+1\n",
    "gca().errorbar(x,a,yerr=std)\n",
    "gca().set_xlim(0.,len(x)+1)"
   ]
  },
  {
   "cell_type": "markdown",
   "metadata": {},
   "source": [
    "- m.r.d: 0.182 for hkl={211} and angcone=10 from 10,000 grains\n",
    "- m.r.d: 0.0457 for hkl={211} and angcone=5 from 100,000 grains"
   ]
  },
  {
   "cell_type": "code",
   "execution_count": null,
   "metadata": {
    "collapsed": false
   },
   "outputs": [],
   "source": [
    "angcone=5.\n",
    "ngrs=[100,1000,10000,100000]\n",
    "a=[]\n",
    "s=[]\n",
    "for i in xrange(len(ngrs)):\n",
    "    avg, std=mrd(ngr=ngrs[i],angcone=angcone,phi1=360,phi2=360,phi=360)\n",
    "    a.append(avg)\n",
    "    s.append(std)\n",
    "x=np.arange(len(ngrs))+1\n",
    "gca().errorbar(x,a,yerr=std)\n",
    "gca().set_xlim(0.,len(x)+1)"
   ]
  },
  {
   "cell_type": "code",
   "execution_count": null,
   "metadata": {
    "collapsed": false
   },
   "outputs": [],
   "source": [
    "a"
   ]
  },
  {
   "cell_type": "markdown",
   "metadata": {},
   "source": [
    "### Trend in m.r.d with respect to increase in diffraction window"
   ]
  },
  {
   "cell_type": "code",
   "execution_count": null,
   "metadata": {
    "collapsed": false
   },
   "outputs": [],
   "source": [
    "angcones=[1,2,3,4,5,6,8,9,10]\n",
    "ngr=6000\n",
    "a=[]; s=[]\n",
    "for i in xrange(len(angcones)):\n",
    "    avg, std=mrd(ngr=ngr,angcone=angcones[i],phi1=360,phi2=90,phi=90)\n",
    "    a.append(avg)\n",
    "    s.append(std)\n",
    "\n",
    "#x=np.arange(len(angcones))+1\n",
    "\n",
    "plt.figure(figsize=(3.5,3))\n",
    "ax=gca()\n",
    "ax.errorbar(angcones,a,yerr=std)\n",
    "ax.set_ylim(0.,)\n",
    "\n",
    "ax.set_xlabel(r'angluar width $\\omega$')\n",
    "ax.set_ylabel(r'Intensity of random distribution $\\mathrm{I^{r.d.}}$')"
   ]
  },
  {
   "cell_type": "code",
   "execution_count": null,
   "metadata": {
    "collapsed": false
   },
   "outputs": [],
   "source": [
    "plt.figure(figsize=(3.5,3))\n",
    "ax=gca()\n",
    "ax.errorbar(angcones,a,yerr=std)\n",
    "ax.set_ylim(0.,)\n",
    "\n",
    "ax.set_xlabel(r'angluar width $\\omega$')\n",
    "ax.set_ylabel(r'Intensity of random distribution $\\mathrm{I^{r.d.}}$')"
   ]
  }
 ],
 "metadata": {
  "kernelspec": {
   "display_name": "Python 2",
   "language": "python",
   "name": "python2"
  },
  "language_info": {
   "codemirror_mode": {
    "name": "ipython",
    "version": 2
   },
   "file_extension": ".py",
   "mimetype": "text/x-python",
   "name": "python",
   "nbconvert_exporter": "python",
   "pygments_lexer": "ipython2",
   "version": "2.7.10"
  }
 },
 "nbformat": 4,
 "nbformat_minor": 0
}

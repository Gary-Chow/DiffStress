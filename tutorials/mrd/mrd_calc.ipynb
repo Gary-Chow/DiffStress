{
 "cells": [
  {
   "cell_type": "markdown",
   "metadata": {},
   "source": [
    "#### This notebook is to *numerically* calculate multitude of random distribution (m.r.d.) expected for $(\\phi,\\psi)$ diffraction orientations"
   ]
  },
  {
   "cell_type": "markdown",
   "metadata": {},
   "source": [
    "- Dependents"
   ]
  },
  {
   "cell_type": "code",
   "execution_count": null,
   "metadata": {
    "collapsed": false
   },
   "outputs": [],
   "source": [
    "pwd"
   ]
  },
  {
   "cell_type": "code",
   "execution_count": null,
   "metadata": {
    "collapsed": false
   },
   "outputs": [],
   "source": [
    "ls"
   ]
  },
  {
   "cell_type": "code",
   "execution_count": null,
   "metadata": {
    "collapsed": false
   },
   "outputs": [],
   "source": [
    "%pylab inline\n",
    "\n",
    "import TX, os, shutil\n",
    "from TX import cmb, euler\n",
    "euler = euler.euler\n",
    "path_home=os.getcwd()\n",
    "# cmb.random\n",
    "\n",
    "path_load='/Users/yj/repo/rs_pack/src/src_fortran/'\n",
    "os.chdir(path_load)\n",
    "import cs\n",
    "reload(cs)\n",
    "os.chdir(path_home)"
   ]
  },
  {
   "cell_type": "code",
   "execution_count": null,
   "metadata": {
    "collapsed": false
   },
   "outputs": [],
   "source": [
    "### Define random orientation\n",
    "grains=cmb.random(ngrain=1000,phi1=360, phi2=360, phi=360)\n",
    "print grains.shape"
   ]
  },
  {
   "cell_type": "code",
   "execution_count": null,
   "metadata": {
    "collapsed": false
   },
   "outputs": [],
   "source": [
    "## rotation matrices for indivial discrete orientations\n",
    "a_mat=[]\n",
    "for i in xrange(len(grains)):\n",
    "    gr=grains[i]\n",
    "    ph,th,tm = gr[:3]\n",
    "    a=euler(ph=grains[0][0], th=grains[0][1], tm=grains[0][2],echo=False)\n",
    "    a_mat.append(a)"
   ]
  },
  {
   "cell_type": "code",
   "execution_count": null,
   "metadata": {
    "collapsed": false
   },
   "outputs": [],
   "source": [
    "hkls,n=cs.cubic_eqvect(v=[2,1,1])\n",
    "hkls=hkls.T\n",
    "hkls=hkls[:n,:]"
   ]
  }
 ],
 "metadata": {
  "kernelspec": {
   "display_name": "Python 2",
   "language": "python",
   "name": "python2"
  },
  "language_info": {
   "codemirror_mode": {
    "name": "ipython",
    "version": 2
   },
   "file_extension": ".py",
   "mimetype": "text/x-python",
   "name": "python",
   "nbconvert_exporter": "python",
   "pygments_lexer": "ipython2",
   "version": "2.7.10"
  }
 },
 "nbformat": 4,
 "nbformat_minor": 0
}

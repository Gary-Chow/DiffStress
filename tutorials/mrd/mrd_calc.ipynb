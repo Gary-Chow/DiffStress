{
 "cells": [
  {
   "cell_type": "markdown",
   "metadata": {},
   "source": [
    "#### This notebook is to *numerically* calculate multitude of random distribution (m.r.d.) expected for $(\\phi,\\psi)$ diffraction orientations"
   ]
  },
  {
   "cell_type": "markdown",
   "metadata": {},
   "source": [
    "- Dependents"
   ]
  },
  {
   "cell_type": "code",
   "execution_count": null,
   "metadata": {
    "collapsed": false
   },
   "outputs": [],
   "source": [
    "pwd"
   ]
  },
  {
   "cell_type": "code",
   "execution_count": null,
   "metadata": {
    "collapsed": false
   },
   "outputs": [],
   "source": [
    "%pylab inline\n",
    "\n",
    "import TX, os, shutil\n",
    "from TX import cmb, euler\n",
    "euler = euler.euler\n",
    "path_home=os.getcwd()\n",
    "# cmb.random\n",
    "\n",
    "path_load='/Users/yj/repo/rs_pack/src/src_fortran/'\n",
    "os.chdir(path_load)\n",
    "import cs\n",
    "reload(cs)\n",
    "os.chdir(path_home)"
   ]
  },
  {
   "cell_type": "code",
   "execution_count": null,
   "metadata": {
    "collapsed": false
   },
   "outputs": [],
   "source": [
    "### Define random orientation\n",
    "grains=cmb.random(ngrain=1000,phi1=360, phi2=360, phi=360)\n",
    "print grains.shape"
   ]
  },
  {
   "cell_type": "code",
   "execution_count": null,
   "metadata": {
    "collapsed": false
   },
   "outputs": [],
   "source": [
    "## rotation matrices for indivial discrete orientations\n",
    "a_mat=[]\n",
    "for i in xrange(len(grains)):\n",
    "    gr=grains[i]\n",
    "    ph,th,tm = gr[:3]\n",
    "    a=euler(ph=grains[0][0], th=grains[0][1], tm=grains[0][2],echo=False)\n",
    "    a_mat.append(a)"
   ]
  },
  {
   "cell_type": "code",
   "execution_count": null,
   "metadata": {
    "collapsed": false
   },
   "outputs": [],
   "source": [
    "hkls,n=cs.cubic_eqvect(v=[2,1,1])\n",
    "hkls=hkls.T\n",
    "hkls=hkls[:n,:]"
   ]
  },
  {
   "cell_type": "code",
   "execution_count": null,
   "metadata": {
    "collapsed": false
   },
   "outputs": [],
   "source": [
    "print cs.vector_ang.__doc__"
   ]
  },
  {
   "cell_type": "code",
   "execution_count": null,
   "metadata": {
    "collapsed": false
   },
   "outputs": [],
   "source": [
    "def vecply(a,b):\n",
    "    c = np.zeros((3,))\n",
    "    for i in xrange(3):\n",
    "        for j in xrange(3):\n",
    "            c[i] = c[i] + b[i][j] * a[j]\n",
    "    return c\n",
    "\n",
    "def vnorm(vec):\n",
    "    v=vec[::]\n",
    "    mag=0.\n",
    "    for i in xrange(len(v)):\n",
    "        mag = mag + v[i]**2\n",
    "    mag = np.sqrt(mag)\n",
    "    \n",
    "    for i in xrange(len(v)):\n",
    "        v[i] = v[i] / mag\n",
    "        \n",
    "    return v"
   ]
  },
  {
   "cell_type": "code",
   "execution_count": null,
   "metadata": {
    "collapsed": false
   },
   "outputs": [],
   "source": [
    "a=[2,0,2]\n",
    "v=vnorm(a)\n",
    "print a\n",
    "print v"
   ]
  },
  {
   "cell_type": "code",
   "execution_count": null,
   "metadata": {
    "collapsed": false
   },
   "outputs": [],
   "source": [
    "import matplotlib.pyplot as plt\n",
    "from mpl_toolkits.mplot3d import Axes3D\n",
    "fig = plt.figure(figsize=(10,10))\n",
    "ax  = fig.add_subplot(221, projection='3d')\n",
    "ax1 = fig.add_subplot(222)\n",
    "\n",
    "## phi / psi\n",
    "phis  = [  0, 45, 90]\n",
    "betas = [-45,-15, -7,  0,  7, 15, 45]\n",
    "\n",
    "## angmisdet \n",
    "angmisdet = 23.59 ## -- depend on 'hkl' and X-ray tube\n",
    "\n",
    "x0_R_s      = np.zeros((3,3))\n",
    "x0_R_s[0,1] = 1.\n",
    "x0_R_s[1,0] = 1.\n",
    "x0_R_s[2,2] =-1.\n",
    "\n",
    "bv0    = np.zeros((3,))\n",
    "bv0[2] = 1.0  # [0,0,1] \n",
    "x      = np.zeros((3,))  # x axis of X-ray coordinate\n",
    "x[0]   = 1.0\n",
    "\n",
    "## R p1 in xa <- beam in xa\n",
    "## R p2 in xa <- beam in xa\n",
    "p1Rb   = cs.vector_ang(x, +angmisdet/2.)\n",
    "p2Rb   = cs.vector_ang(x, -angmisdet/2.)\n",
    "nphi = len(phis)\n",
    "nbet = len(betas)\n",
    "\n",
    "for iphi in xrange(nphi):\n",
    "    for ibeta in xrange(nbet):\n",
    "        ph = phis[iphi]\n",
    "        be = betas[ibeta]\n",
    "        x1_R_x0 = euler(ph=-ph,th=be,tm=0,echo=False)\n",
    "        bv1     = vecply(bv0,x1_R_x0)        \n",
    "        x1_R_s  = cs.matply(x1_R_x0, x0_R_s)\n",
    "        s_R_x1  = x1_R_s.T\n",
    "\n",
    "        bvs = vecply(bv0, s_R_x1) ## Beam vector in sample axes        \n",
    "        ps1 = vecply(bv0, p1Rb)\n",
    "        ps2 = vecply(bv0, p2Rb)        \n",
    "        ps1 = vecply(ps1, s_R_x1)\n",
    "        ps2 = vecply(ps2, s_R_x1)\n",
    "\n",
    "        ax.scatter(ps1[0],ps1[1],ps1[2])\n",
    "        ax.scatter(ps2[0],ps2[1],ps2[2])\n",
    "        ax1.plot(ps1[0],ps1[1],'k.')\n",
    "        ax1.plot(ps2[0],ps2[1],'k.')\n",
    "\n",
    "ax.set_zlim(0,-1.)"
   ]
  }
 ],
 "metadata": {
  "kernelspec": {
   "display_name": "Python 2",
   "language": "python",
   "name": "python2"
  },
  "language_info": {
   "codemirror_mode": {
    "name": "ipython",
    "version": 2
   },
   "file_extension": ".py",
   "mimetype": "text/x-python",
   "name": "python",
   "nbconvert_exporter": "python",
   "pygments_lexer": "ipython2",
   "version": "2.7.10"
  }
 },
 "nbformat": 4,
 "nbformat_minor": 0
}

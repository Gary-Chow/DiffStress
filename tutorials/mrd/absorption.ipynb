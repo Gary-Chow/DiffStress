{
 "cells": [
  {
   "cell_type": "markdown",
   "metadata": {},
   "source": [
    "- Dependent"
   ]
  },
  {
   "cell_type": "code",
   "execution_count": null,
   "metadata": {
    "collapsed": false
   },
   "outputs": [],
   "source": [
    "%pylab inline\n",
    "\n",
    "import os\n",
    "home=os.getcwd()\n",
    "path_load ='/Users/yj/repo/vpsc/vpsc-dev-yld/ipynb'\n",
    "os.chdir(path_load)\n",
    "import lib_dat\n",
    "os.chdir(home)"
   ]
  },
  {
   "cell_type": "code",
   "execution_count": null,
   "metadata": {
    "collapsed": true
   },
   "outputs": [],
   "source": [
    "pi = np.pi\n",
    "psi=35.    *pi/180.\n",
    "thb=156.41 *pi/180./2."
   ]
  },
  {
   "cell_type": "markdown",
   "metadata": {},
   "source": [
    "$\\Theta=\\frac{1}{2\\mu} (1-\\tan{\\psi}\\cot{\\theta^B})$"
   ]
  },
  {
   "cell_type": "code",
   "execution_count": null,
   "metadata": {
    "collapsed": false
   },
   "outputs": [],
   "source": [
    "psis = np.linspace(0,35.)*pi/180.\n",
    "S = lambda x: (1-np.tan(x) /np.tan(thb))\n",
    "S_inv = lambda x: 1./(1.-np.tan(x) /np.tan(thb))\n",
    "\n",
    "fig=plt.figure(figsize=(8,4))\n",
    "ax=fig.add_subplot(121)\n",
    "ax.plot(psis/np.pi*180.,S(psis),label=r'$1-\\tan{\\psi}\\ \\cot{\\theta^B}$')\n",
    "ax.plot(psis/np.pi*180.,S_inv(psis),label=r'$1/\\{1-\\tan{\\psi}\\ \\cot{\\theta^B}\\}$')\n",
    "ax.set_xlabel(r'$\\psi$ [Degree]',fontsize=20)\n",
    "ax.set_ylabel(r'$1-\\tan{\\psi}\\ \\cot{\\theta^B}$ or its inverse',fontsize=14)\n",
    "ax.text(0.1,0.75,s=r'$\\theta^B=%5.1f\\degree$'%(thb*180/pi),transform=ax.transAxes,fontsize=20)\n",
    "lib_dat.tick_bin(ax,nbin=5)\n",
    "\n",
    "ax.legend(bbox_to_anchor=(1.7,1),fontsize=12)\n",
    "\n",
    "fig.tight_layout()\n",
    "fig.savefig('absorption.pdf',bbox_in_inches='tight')"
   ]
  },
  {
   "cell_type": "code",
   "execution_count": null,
   "metadata": {
    "collapsed": false
   },
   "outputs": [],
   "source": [
    "pwd"
   ]
  }
 ],
 "metadata": {
  "kernelspec": {
   "display_name": "Python 2",
   "language": "python",
   "name": "python2"
  },
  "language_info": {
   "codemirror_mode": {
    "name": "ipython",
    "version": 2
   },
   "file_extension": ".py",
   "mimetype": "text/x-python",
   "name": "python",
   "nbconvert_exporter": "python",
   "pygments_lexer": "ipython2",
   "version": "2.7.10"
  }
 },
 "nbformat": 4,
 "nbformat_minor": 0
}
